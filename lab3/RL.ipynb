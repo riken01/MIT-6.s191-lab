{
  "cells": [
    {
      "cell_type": "markdown",
      "metadata": {
        "id": "view-in-github",
        "colab_type": "text"
      },
      "source": [
        "<a href=\"https://colab.research.google.com/github/riken01/MIT-6.s191-lab/blob/main/lab3/RL.ipynb\" target=\"_parent\"><img src=\"https://colab.research.google.com/assets/colab-badge.svg\" alt=\"Open In Colab\"/></a>"
      ]
    },
    {
      "cell_type": "markdown",
      "metadata": {
        "id": "jrI6q7RmWQam"
      },
      "source": [
        "<table align=\"center\">\n",
        "  <td align=\"center\"><a target=\"_blank\" href=\"http://introtodeeplearning.com\">\n",
        "        <img src=\"https://i.ibb.co/Jr88sn2/mit.png\" style=\"padding-bottom:5px;\" />\n",
        "      Visit MIT Deep Learning</a></td>\n",
        "  <td align=\"center\"><a target=\"_blank\" href=\"https://colab.research.google.com/github/aamini/introtodeeplearning/blob/master/lab3/RL.ipynb\">\n",
        "        <img src=\"https://i.ibb.co/2P3SLwK/colab.png\"  style=\"padding-bottom:5px;\" />Run in Google Colab</a></td>\n",
        "  <td align=\"center\"><a target=\"_blank\" href=\"https://github.com/aamini/introtodeeplearning/blob/master/lab3/RL.ipynb\">\n",
        "        <img src=\"https://i.ibb.co/xfJbPmL/github.png\"  height=\"70px\" style=\"padding-bottom:5px;\"  />View Source on GitHub</a></td>\n",
        "</table>\n",
        "\n",
        "# Copyright Information"
      ]
    },
    {
      "cell_type": "code",
      "execution_count": null,
      "metadata": {
        "id": "wkd375upWYok"
      },
      "outputs": [],
      "source": [
        "# Copyright 2022 MIT 6.S191 Introduction to Deep Learning. All Rights Reserved.\n",
        "# \n",
        "# Licensed under the MIT License. You may not use this file except in compliance\n",
        "# with the License. Use and/or modification of this code outside of 6.S191 must\n",
        "# reference:\n",
        "#\n",
        "# © MIT 6.S191: Introduction to Deep Learning\n",
        "# http://introtodeeplearning.com\n",
        "#"
      ]
    },
    {
      "cell_type": "markdown",
      "metadata": {
        "id": "WoXYKhfZMHiw"
      },
      "source": [
        "# Laboratory 3: Reinforcement Learning\n",
        "\n",
        "Reinforcement learning (RL) is a subset of machine learning which poses learning problems as interactions between agents and environments. It often assumes agents have no prior knowledge of a world, so they must learn to navigate environments by optimizing a reward function. Within an environment, an agent can take certain actions and receive feedback, in the form of positive or negative rewards, with respect to their decision. As such, an agent's feedback loop is somewhat akin to the idea of \"trial and error\", or the manner in which a child might learn to distinguish between \"good\" and \"bad\" actions.\n",
        "\n",
        "In practical terms, our RL agent will interact with the environment by taking an action at each timestep, receiving a corresponding reward, and updating its state according to what it has \"learned\".  \n",
        "\n",
        "![alt text](https://www.kdnuggets.com/images/reinforcement-learning-fig1-700.jpg)\n",
        "\n",
        "While the ultimate goal of reinforcement learning is to teach agents to act in the real, physical world, simulated environments -- like games and simulation engines -- provide a convenient proving ground for developing RL algorithms and agents.\n",
        "\n",
        "In previous labs, we have explored both supervised (with LSTMs, CNNs) and unsupervised / semi-supervised (with VAEs) learning tasks. Reinforcement learning is fundamentally different, in that we are training a deep learning algorithm to govern the actions of our RL agent, that is trying, within its environment, to find the optimal way to achieve a goal. The goal of training an RL agent is to determine the best next step to take to earn the greatest final payoff or return. In this lab, we focus on building a reinforcement learning algorithm to master two different environments with varying complexity. \n",
        "\n",
        "1.   **Cartpole**:   Balance a pole, protruding from a cart, in an upright position by only moving the base left or right. Environment with a low-dimensional observation space.\n",
        "2.   [**Driving in VISTA**](https://www.mit.edu/~amini/pubs/pdf/learning-in-simulation-vista.pdf): Learn a driving control policy for an autonomous vehicle, end-to-end from raw pixel inputs and entirely in the data-driven simulation environment of VISTA. Environment with a high-dimensional observation space -- learning directly from raw pixels.\n",
        "\n",
        "Let's get started! First we'll import TensorFlow, the course package, and some dependencies.\n"
      ]
    },
    {
      "cell_type": "code",
      "execution_count": 3,
      "metadata": {
        "id": "KR9QHuleJ9Bh",
        "outputId": "9844e143-0e93-41e1-fb0f-fb5692344825",
        "colab": {
          "base_uri": "https://localhost:8080/"
        }
      },
      "outputs": [
        {
          "output_type": "stream",
          "name": "stdout",
          "text": [
            "Installing MIT deep learning package... Done\n"
          ]
        }
      ],
      "source": [
        "# Import Tensorflow 2.0\n",
        "%tensorflow_version 2.x\n",
        "import tensorflow as tf\n",
        "\n",
        "gpus = tf.config.experimental.list_physical_devices('GPU')\n",
        "if gpus:\n",
        "    for gpu in gpus:\n",
        "        tf.config.experimental.set_memory_growth(gpu, True)\n",
        "\n",
        "# Download and import the MIT 6.S191 package\n",
        "!printf \"Installing MIT deep learning package... \"\n",
        "!pip install --upgrade git+https://github.com/aamini/introtodeeplearning.git &> /dev/null\n",
        "!echo \"Done\""
      ]
    },
    {
      "cell_type": "code",
      "execution_count": 4,
      "metadata": {
        "id": "EvdePP-VyVWp"
      },
      "outputs": [],
      "source": [
        "#Install some dependencies for visualizing the agents\n",
        "!apt-get install -y xvfb python-opengl x11-utils &> /dev/null\n",
        "!pip install gym pyvirtualdisplay scikit-video ffio pyrender &> /dev/null\n",
        "!pip install tensorflow_probability==0.12.0 &> /dev/null\n",
        "import os\n",
        "os.environ['PYOPENGL_PLATFORM'] = 'egl'\n",
        "\n",
        "import numpy as np\n",
        "import matplotlib, cv2\n",
        "import matplotlib.pyplot as plt\n",
        "import base64, io, os, time, gym\n",
        "import IPython, functools\n",
        "import time\n",
        "from tqdm import tqdm\n",
        "import tensorflow_probability as tfp\n",
        "\n",
        "import mitdeeplearning as mdl"
      ]
    },
    {
      "cell_type": "markdown",
      "metadata": {
        "id": "zmrHSiXKTXTY"
      },
      "source": [
        "Before we dive in, let's take a step back and outline our approach, which is generally applicable to reinforcement learning problems in general:\n",
        "\n",
        "1. **Initialize our environment and our agent**: here we will describe the different observations and actions the agent can make in the environemnt.\n",
        "2. **Define our agent's memory**: this will enable the agent to remember its past actions, observations, and rewards.\n",
        "3. **Define a reward function**: describes the reward associated with an action or sequence of actions.\n",
        "4. **Define the learning algorithm**: this will be used to reinforce the agent's good behaviors and discourage bad behaviors.\n"
      ]
    },
    {
      "cell_type": "markdown",
      "metadata": {
        "id": "UT7YL8KBJIIc"
      },
      "source": [
        "# Part 1: Cartpole\n",
        "\n",
        "## 3.1 Define the Cartpole environment and agent\n",
        "\n",
        "### Environment \n",
        "\n",
        "In order to model the environment for the Cartpole task, we'll be using a toolkit developed by OpenAI called [OpenAI Gym](https://gym.openai.com/). It provides several pre-defined environments for training and testing reinforcement learning agents, including those for classic physics control tasks, Atari video games, and robotic simulations. To access the Cartpole environment, we can use `env = gym.make(\"CartPole-v0\")`, which we gained access to when we imported the `gym` package. We can instantiate different [environments](https://gym.openai.com/envs/#classic_control) by passing the enivronment name to the `make` function.\n",
        "\n",
        "One issue we might experience when developing RL algorithms is that many aspects of the learning process are inherently random: initializing game states, changes in the environment, and the agent's actions. As such, it can be helpful to set a initial \"seed\" for the environment to ensure some level of reproducibility. Much like you might use `numpy.random.seed`, we can call the comparable function in gym, `seed`, with our defined environment to ensure the environment's random variables are initialized the same each time."
      ]
    },
    {
      "cell_type": "code",
      "execution_count": 7,
      "metadata": {
        "id": "quv9SC0iIYFm",
        "outputId": "56e82c40-e767-482f-e50b-a716f14bbf44",
        "colab": {
          "base_uri": "https://localhost:8080/"
        }
      },
      "outputs": [
        {
          "output_type": "execute_result",
          "data": {
            "text/plain": [
              "[1]"
            ]
          },
          "metadata": {},
          "execution_count": 7
        }
      ],
      "source": [
        "### Instantiate the Cartpole environment ###\n",
        "\n",
        "env = gym.make(\"CartPole-v1\")\n",
        "env.seed(1)"
      ]
    },
    {
      "cell_type": "markdown",
      "metadata": {
        "id": "mhEITUcKK455"
      },
      "source": [
        "In Cartpole, a pole is attached by an un-actuated joint to a cart, which moves along a frictionless track. The pole starts upright, and the goal is to prevent it from falling over. The system is controlled by applying a force of +1 or -1 to the cart. A reward of +1 is provided for every timestep that the pole remains upright. The episode ends when the pole is more than 15 degrees from vertical, or the cart moves more than 2.4 units from the center of the track. A visual summary of the cartpole environment is depicted below:\n",
        "\n",
        "<img width=\"400px\" src=\"https://danielpiedrahita.files.wordpress.com/2017/02/cart-pole.png\"></img>\n",
        "\n",
        "Given this setup for the environment and the objective of the game, we can think about: 1) what observations help define the environment's state; 2) what actions the agent can take. \n",
        "\n",
        "First, let's consider the observation space. In this Cartpole environment our observations are:\n",
        "\n",
        "1. Cart position\n",
        "2. Cart velocity\n",
        "3. Pole angle\n",
        "4. Pole rotation rate\n",
        "\n",
        "We can confirm the size of the space by querying the environment's observation space:\n"
      ]
    },
    {
      "cell_type": "code",
      "execution_count": 8,
      "metadata": {
        "id": "UVJaEcbdIX82",
        "outputId": "cfe99380-232a-4417-ddf9-90a8e8dd6cdd",
        "colab": {
          "base_uri": "https://localhost:8080/"
        }
      },
      "outputs": [
        {
          "output_type": "stream",
          "name": "stdout",
          "text": [
            "Environment has observation space = Box(-3.4028234663852886e+38, 3.4028234663852886e+38, (4,), float32)\n"
          ]
        }
      ],
      "source": [
        "n_observations = env.observation_space\n",
        "print(\"Environment has observation space =\", n_observations)"
      ]
    },
    {
      "cell_type": "markdown",
      "metadata": {
        "id": "ZibGgjrALgPM"
      },
      "source": [
        "Second, we consider the action space. At every time step, the agent can move either right or left. Again we can confirm the size of the action space by querying the environment:"
      ]
    },
    {
      "cell_type": "code",
      "execution_count": 9,
      "metadata": {
        "id": "qc9SIPxBIXrm",
        "outputId": "75ae6a26-1b88-4744-f98d-dd1e566d8adc",
        "colab": {
          "base_uri": "https://localhost:8080/"
        }
      },
      "outputs": [
        {
          "output_type": "stream",
          "name": "stdout",
          "text": [
            "Number of possible actions that the agent can choose from = 2\n"
          ]
        }
      ],
      "source": [
        "n_actions = env.action_space.n\n",
        "print(\"Number of possible actions that the agent can choose from =\", n_actions)"
      ]
    },
    {
      "cell_type": "markdown",
      "metadata": {
        "id": "pPfHME8aRKkb"
      },
      "source": [
        "### Cartpole agent\n",
        "\n",
        "Now that we have instantiated the environment and understood the dimensionality of the observation and action spaces, we are ready to define our agent. In deep reinforcement learning, a deep neural network defines the agent. This network will take as input an observation of the environment and output the probability of taking each of the possible actions. Since Cartpole is defined by a low-dimensional observation space, a simple feed-forward neural network should work well for our agent. We will define this using the `Sequential` API.\n"
      ]
    },
    {
      "cell_type": "code",
      "execution_count": 10,
      "metadata": {
        "id": "W-o_XK4oQ4eu"
      },
      "outputs": [],
      "source": [
        "### Define the Cartpole agent ###\n",
        "\n",
        "# Defines a feed-forward neural network\n",
        "def create_cartpole_model():\n",
        "    model = tf.keras.models.Sequential([\n",
        "        # First Dense layer\n",
        "        tf.keras.layers.Dense(units=32, activation='relu'),\n",
        "        \n",
        "        # TODO: Define the last Dense layer, which will provide the network's output.\n",
        "        # Think about the space the agent needs to act in!\n",
        "        tf.keras.layers.Dense(units=n_actions, activation='softmax')\n",
        "    ])\n",
        "    return model\n",
        "\n",
        "cartpole_model = create_cartpole_model()"
      ]
    },
    {
      "cell_type": "markdown",
      "metadata": {
        "id": "d5D5NSIYS2IW"
      },
      "source": [
        "Now that we have defined the core network architecture, we will define an *action function* that executes a forward pass through the network, given a set of observations, and samples from the output. This sampling from the output probabilities will be used to select the next action for the agent. We will also add support so that the `choose_action` function can handle either a single observation or a batch of observations.\n",
        "\n",
        "**Critically, this action function is totally general -- we will use this function for learning control algorithms for Cartpole, but it is applicable to other RL tasks, as well!**"
      ]
    },
    {
      "cell_type": "code",
      "execution_count": 11,
      "metadata": {
        "id": "E_vVZRr8Q4R_"
      },
      "outputs": [],
      "source": [
        "### Define the agent's action function ###\n",
        "\n",
        "# Function that takes observations as input, executes a forward pass through model, \n",
        "#   and outputs a sampled action.\n",
        "# Arguments:\n",
        "#   model: the network that defines our agent\n",
        "#   observation: observation(s) which is/are fed as input to the model\n",
        "#   single: flag as to whether we are handling a single observation or batch of\n",
        "#     observations, provided as an np.array\n",
        "# Returns:\n",
        "#   action: choice of agent action\n",
        "def choose_action(model, observation, single=True):\n",
        "    # add batch dimension to the observation if only a single example was provided\n",
        "    observation = np.expand_dims(observation, axis=0) if single else observation\n",
        "\n",
        "    '''TODO: feed the observations through the model to predict the log probabilities of each possible action.'''\n",
        "    logits = model.predict(observation)\n",
        "\n",
        "    '''TODO: Choose an action from the categorical distribution defined by the log \n",
        "       probabilities of each possible action.'''\n",
        "    action = tf.random.categorical(logits, num_samples=1)\n",
        "\n",
        "    action = action.numpy().flatten()\n",
        "\n",
        "    return action[0] if single else action"
      ]
    },
    {
      "cell_type": "markdown",
      "metadata": {
        "id": "_tR9uAWcTnkr"
      },
      "source": [
        "## 3.2 Define the agent's memory\n",
        "\n",
        "Now that we have instantiated the environment and defined the agent network architecture and action function, we are ready to move on to the next step in our RL workflow:\n",
        "1. **Initialize our environment and our agent**: here we will describe the different observations and actions the agent can make in the environemnt.\n",
        "2. **Define our agent's memory**: this will enable the agent to remember its past actions, observations, and rewards.\n",
        "3. **Define the learning algorithm**: this will be used to reinforce the agent's good behaviors and discourage bad behaviors.\n",
        "\n",
        "In reinforcement learning, training occurs alongside the agent's acting in the environment; an *episode* refers to a sequence of actions that ends in some terminal state, such as the pole falling down or the cart crashing. The agent will need to remember all of its observations and actions, such that once an episode ends, it can learn to \"reinforce\" the good actions and punish the undesirable actions via training. Our first step is to define a simple `Memory` buffer that contains the agent's observations, actions, and received rewards from a given episode. We will also add support to combine a list of `Memory` objects into a single `Memory`. This will be very useful for batching, which will help you accelerate training later on in the lab.\n",
        "\n",
        "**Once again, note the modularity of this memory buffer -- it can and will be applied to other RL tasks as well!**"
      ]
    },
    {
      "cell_type": "code",
      "execution_count": 12,
      "metadata": {
        "id": "8MM6JwXVQ4JG"
      },
      "outputs": [],
      "source": [
        "### Agent Memory ###\n",
        "\n",
        "class Memory:\n",
        "    def __init__(self): \n",
        "        self.clear()\n",
        "\n",
        "  # Resets/restarts the memory buffer\n",
        "    def clear(self): \n",
        "        self.observations = []\n",
        "        self.actions = []\n",
        "        self.rewards = []\n",
        "\n",
        "  # Add observations, actions, rewards to memory\n",
        "    def add_to_memory(self, new_observation, new_action, new_reward): \n",
        "        self.observations.append(new_observation)\n",
        "        \n",
        "        '''TODO: update the list of actions with new action'''\n",
        "        self.actions.append(new_action)\n",
        "\n",
        "        '''TODO: update the list of rewards with new reward'''\n",
        "        self.rewards.append(new_reward)\n",
        "\n",
        "    def __len__(self):\n",
        "        return len(self.actions)\n",
        "\n",
        "# Instantiate a single Memory buffer\n",
        "memory = Memory()"
      ]
    },
    {
      "cell_type": "markdown",
      "metadata": {
        "id": "D4YhtPaUVj5m"
      },
      "source": [
        "## 3.3 Reward function\n",
        "\n",
        "We're almost ready to begin the learning algorithm for our agent! The next step is to compute the rewards of our agent as it acts in the environment. Since we (and the agent) is uncertain about if and when the game or task will end (i.e., when the pole will fall), it is useful to emphasize getting rewards **now** rather than later in the future -- this is the idea of discounting. This is a similar concept to discounting money in the case of interest. Recall from lecture, we use reward discount to give more preference at getting rewards now rather than later in the future. The idea of discounting rewards is similar to discounting money in the case of interest.\n",
        "\n",
        "To compute the expected cumulative reward, known as the **return**, at a given timestep in a learning episode, we sum the discounted rewards expected at that time step $t$, within a learning episode, and projecting into the future. We define the return (cumulative reward) at a time step $t$, $R_{t}$ as:\n",
        "\n",
        ">$R_{t}=\\sum_{k=0}^\\infty\\gamma^kr_{t+k}$\n",
        "\n",
        "where  $0 < \\gamma < 1$ is the discount factor and $r_{t}$ is the reward at time step $t$, and the index $k$ increments projection into the future within a single learning episode. Intuitively, you can think of this function as depreciating any rewards received at later time steps, which will force the agent prioritize getting rewards now. Since we can't extend episodes to infinity, in practice the computation will be limited to the number of timesteps in an episode -- after that the reward is assumed to be zero.\n",
        "\n",
        "Take note of the form of this sum -- we'll have to be clever about how we implement this function. Specifically, we'll need to initialize an array of zeros, with length of the number of time steps, and fill it with the real discounted reward values as we loop through the rewards from the episode, which will have been saved in the agents memory. What we ultimately care about is which actions are better relative to other actions taken in that episode -- so, we'll normalize our computed rewards, using the mean and standard deviation of the rewards across the learning episode.\n",
        "\n",
        "We will use this definition of the reward function in both parts of the lab so make sure you have it executed!\n"
      ]
    },
    {
      "cell_type": "code",
      "execution_count": 13,
      "metadata": {
        "id": "5_Q2OFYtQ32X"
      },
      "outputs": [],
      "source": [
        "### Reward function ###\n",
        "\n",
        "# Helper function that normalizes an np.array x\n",
        "def normalize(x):\n",
        "    x -= np.mean(x)\n",
        "    x /= np.std(x)\n",
        "    return x.astype(np.float32)\n",
        "\n",
        "# Compute normalized, discounted, cumulative rewards (i.e., return)\n",
        "# Arguments:\n",
        "#   rewards: reward at timesteps in episode\n",
        "#   gamma: discounting factor\n",
        "# Returns:\n",
        "#   normalized discounted reward\n",
        "def discount_rewards(rewards, gamma=0.95): \n",
        "    discounted_rewards = np.zeros_like(rewards)\n",
        "    R = 0\n",
        "    for t in reversed(range(0, len(rewards))):\n",
        "        # update the total discounted reward\n",
        "        R = R * gamma + rewards[t]\n",
        "        discounted_rewards[t] = R\n",
        "      \n",
        "    return normalize(discounted_rewards)"
      ]
    },
    {
      "cell_type": "markdown",
      "metadata": {
        "id": "QzbY-mjGYcmt"
      },
      "source": [
        "## 3.4 Learning algorithm\n",
        "\n",
        "Now we can start to define the learing algorithm which will be used to reinforce good behaviors of the agent and discourage bad behaviours. In this lab, we will focus on *policy gradient* methods which aim to **maximize** the likelihood of actions that result in large rewards. Equivalently, this means that we want to **minimize** the negative likelihood of these same actions. We achieve this by simply **scaling** the probabilities by their associated rewards -- effectively amplifying the likelihood of actions that resujlt in large rewards.\n",
        "\n",
        "Since the log function is monotonically increasing, this means that minimizing **negative likelihood** is equivalent to minimizing **negative log-likelihood**.  Recall that we can easily compute the negative log-likelihood of a discrete action by evaluting its [softmax cross entropy](https://www.tensorflow.org/api_docs/python/tf/nn/sparse_softmax_cross_entropy_with_logits). Like in supervised learning, we can use stochastic gradient descent methods to achieve the desired minimization. \n",
        "\n",
        "Let's begin by defining the loss function."
      ]
    },
    {
      "cell_type": "code",
      "execution_count": 14,
      "metadata": {
        "id": "fsgZ3IDCY_Zn"
      },
      "outputs": [],
      "source": [
        "### Loss function ###\n",
        "\n",
        "# Arguments:\n",
        "#   logits: network's predictions for actions to take\n",
        "#   actions: the actions the agent took in an episode\n",
        "#   rewards: the rewards the agent received in an episode\n",
        "# Returns:\n",
        "#   loss\n",
        "def compute_loss(logits, actions, rewards): \n",
        "    '''TODO: complete the function call to compute the negative log probabilities'''\n",
        "    neg_logprob = tf.nn.sparse_softmax_cross_entropy_with_logits(\n",
        "       logits=logits, labels=actions)\n",
        "  \n",
        "    '''TODO: scale the negative log probability by the rewards'''\n",
        "    loss = tf.reduce_mean(neg_logprob * rewards)\n",
        "    return loss"
      ]
    },
    {
      "cell_type": "markdown",
      "metadata": {
        "id": "Rr5vQ9fqbPpp"
      },
      "source": [
        "Now let's use the loss function to define a training step of our learning algorithm. This is a very generalizable definition which we will use "
      ]
    },
    {
      "cell_type": "code",
      "execution_count": 26,
      "metadata": {
        "id": "_50ada7nbZ7L"
      },
      "outputs": [],
      "source": [
        "### Training step (forward and backpropagation) ###\n",
        "\n",
        "def train_step(model, loss_function, optimizer, observations, actions, discounted_rewards, custom_fwd_fn=None):\n",
        "    with tf.GradientTape() as tape:\n",
        "        # Forward propagate through the agent network\n",
        "        if custom_fwd_fn is not None:\n",
        "            prediction = custom_fwd_fn(observations)\n",
        "        else: \n",
        "            prediction = model(observations)\n",
        "\n",
        "        '''TODO: call the compute_loss function to compute the loss'''\n",
        "        loss = loss_function(prediction, actions, discounted_rewards)\n",
        "\n",
        "    '''TODO: run backpropagation to minimize the loss using the tape.gradient method. \n",
        "             Unlike supervised learning, RL is *extremely* noisy, so you will benefit \n",
        "             from additionally clipping your gradients to avoid falling into \n",
        "             dangerous local minima. After computing your gradients try also clipping\n",
        "             by a global normalizer. Try different clipping values, usually clipping \n",
        "             between 0.5 and 5 provides reasonable results. '''\n",
        "    grads = tape.gradient(loss,model.trainable_variables)\n",
        "\n",
        "    grads, _ = tf.clip_by_global_norm(grads, 2)\n",
        "    optimizer.apply_gradients(zip(grads, model.trainable_variables))"
      ]
    },
    {
      "cell_type": "markdown",
      "metadata": {
        "id": "XsjKXh6BcgjR"
      },
      "source": [
        "## 3.5 Run cartpole!\n",
        "\n",
        "Having had no prior knowledge of the environment, the agent will begin to learn how to balance the pole on the cart based only on the feedback received from the environment! Having defined how our agent can move, how it takes in new observations, and how it updates its state, we'll see how it gradually learns a policy of actions to optimize balancing the pole as long as possible. To do this, we'll track how the rewards evolve as a function of training -- how should the rewards change as training progresses?"
      ]
    },
    {
      "cell_type": "code",
      "execution_count": 27,
      "metadata": {
        "id": "-hZ7E6JOJ9Bn"
      },
      "outputs": [],
      "source": [
        "## Training parameters ##\n",
        "## Re-run this cell to restart training from scratch ##\n",
        "\n",
        "# TODO: Learning rate and optimizer\n",
        "learning_rate = 1e-3\n",
        "\n",
        "optimizer = tf.keras.optimizers.Adam(learning_rate)\n",
        "\n",
        "# instantiate cartpole agent\n",
        "cartpole_model = create_cartpole_model()\n",
        "\n",
        "# to track our progress\n",
        "smoothed_reward = mdl.util.LossHistory(smoothing_factor=0.95)\n",
        "plotter = mdl.util.PeriodicPlotter(sec=2, xlabel='Iterations', ylabel='Rewards')"
      ]
    },
    {
      "cell_type": "code",
      "execution_count": 28,
      "metadata": {
        "id": "XmOzc2rrcn8Q",
        "scrolled": false,
        "outputId": "d23cf6a9-d671-4fb7-da22-2c06d7280d03",
        "colab": {
          "base_uri": "https://localhost:8080/",
          "height": 279
        }
      },
      "outputs": [
        {
          "output_type": "display_data",
          "data": {
            "text/plain": [
              "<Figure size 432x288 with 1 Axes>"
            ],
            "image/png": "[encoded data removed]"
          },
          "metadata": {}
        }
      ],
      "source": [
        "## Cartpole training! ##\n",
        "## Note: stoping and restarting this cell will pick up training where you\n",
        "#        left off. To restart training you need to rerun the cell above as \n",
        "#        well (to re-initialize the model and optimizer)\n",
        "\n",
        "if hasattr(tqdm, '_instances'): tqdm._instances.clear() # clear if it exists\n",
        "for i_episode in range(500):\n",
        "\n",
        "    plotter.plot(smoothed_reward.get())\n",
        "    # Restart the environment\n",
        "    observation = env.reset()\n",
        "    memory.clear()\n",
        "\n",
        "    while True:\n",
        "        # using our observation, choose an action and take it in the environment\n",
        "        action = choose_action(cartpole_model, observation)\n",
        "        next_observation, reward, done, info = env.step(action)\n",
        "        # add to memory\n",
        "        memory.add_to_memory(observation, action, reward)\n",
        "\n",
        "        # is the episode over? did you crash or do so well that you're done?\n",
        "        if done:\n",
        "            # determine total reward and keep a record of this\n",
        "            total_reward = sum(memory.rewards)\n",
        "            smoothed_reward.append(total_reward)\n",
        "          \n",
        "            # initiate training - remember we don't know anything about how the \n",
        "            #   agent is doing until it has crashed!\n",
        "            g = train_step(cartpole_model, compute_loss, optimizer, \n",
        "                       observations=np.vstack(memory.observations),\n",
        "                       actions=np.array(memory.actions),\n",
        "                       discounted_rewards = discount_rewards(memory.rewards))\n",
        "          \n",
        "            # reset the memory\n",
        "            memory.clear()\n",
        "            break\n",
        "        # update our observatons\n",
        "        observation = next_observation"
      ]
    },
    {
      "cell_type": "markdown",
      "metadata": {
        "id": "mkcUtGF1VE-K"
      },
      "source": [
        "To get a sense of how our agent did, we can save a video of the trained model working on balancing the pole. Realize that this is a brand new environment that the agent has not seen before!\n",
        "\n",
        "Let's display the saved video to watch how our agent did!\n"
      ]
    },
    {
      "cell_type": "code",
      "execution_count": 29,
      "metadata": {
        "id": "PAYBkv6Zbk0J",
        "scrolled": true,
        "outputId": "d10056bf-b8a3-45d3-bbab-14ea8fe1fb2b",
        "colab": {
          "base_uri": "https://localhost:8080/",
          "height": 438
        }
      },
      "outputs": [
        {
          "output_type": "stream",
          "name": "stdout",
          "text": [
            "Successfully saved 272 frames into CartPole-v1.mp4!\n"
          ]
        },
        {
          "output_type": "execute_result",
          "data": {
            "text/plain": [
              "<IPython.core.display.HTML object>"
            ],
            "text/html": [
              "\n",
              "        <video controls >\n",
              "            <source src=\"data:video/mp4;base64,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\" type=\"video/mp4\" />\n",
              "        </video>"
            ]
          },
          "metadata": {},
          "execution_count": 29
        }
      ],
      "source": [
        "matplotlib.use('Agg') \n",
        "saved_cartpole = mdl.lab3.save_video_of_model(cartpole_model, \"CartPole-v1\")\n",
        "mdl.lab3.play_video(saved_cartpole)"
      ]
    },
    {
      "cell_type": "markdown",
      "metadata": {
        "id": "CSbVNDpaVb3_"
      },
      "source": [
        "How does the agent perform? Could you train it for shorter amounts of time and still perform well? Do you think that training longer would help even more? "
      ]
    },
    {
      "cell_type": "markdown",
      "metadata": {
        "id": "Eu6Mqxc720ST"
      },
      "source": [
        "# Part 2: Training Autonomous Driving Policies in VISTA\n",
        "Autonomous control has traditionally be dominated by algorithms that explicitly decompose individual aspects of the control pipeline. For example, in autonomous driving, traditional methods work by first detecting road and lane boundaries, and then using path planning and rule-based methods to derive a control policy. Deep learning offers something very different -- the possibility of optimizing all these steps simultaneously, learning control end-to-end directly from raw sensory inputs.\n",
        "\n",
        "**You will explore the power of deep learning to learn autonomous control policies that are trained *end-to-end, directly from raw sensory data, and entirely within a simulated world*.**\n",
        "\n",
        "We will use the data-driven simulation engine [VISTA](https://ieeexplore.ieee.org/stamp/stamp.jsp?arnumber=8957584&tag=1), which uses techniques in computer vision to synthesize new photorealistic trajectories and driving viewpoints, that are still consistent with the world's appearance and fall within the envelope of a real driving scene. This is a powerful approach -- we can synthesize data that is photorealistic, grounded in the real world, and then use this data for training and testing autonomous vehicle control policies within this simulator.\n",
        "\n",
        "In this part of the lab, you will use reinforcement lerning to build a self-driving agent with a neural network-based controller trained on RGB camera data. We will train the self-driving agent for the task of lane following. Beyond this data modality and control task, VISTA also supports [different data modalities](https://arxiv.org/pdf/2111.12083.pdf) (such as LiDAR data) and [different learning tasks](https://arxiv.org/pdf/2111.12137.pdf) (such as multi-car interactions).\n",
        "<p align=\"center\">\n",
        "<img src=\"https://raw.githubusercontent.com/aamini/introtodeeplearning/master/lab3/img/vista_overview.png\" width=\"600\"/>\n",
        "</p>\n",
        "\n",
        "\n",
        "You will put your agent to the test in the VISTA environment, and potentially, on board a full-scale autonomous vehicle! Specifically, as part of the MIT lab competitions, high-performing agents -- evaluated based on the maximum distance they can travel without crashing -- will have the opportunity to be put to the ***real*** test onboard a full-scale autonomous vehicle!!! \n",
        "\n",
        "We start by installing dependencies. This includes installing the VISTA package itself."
      ]
    },
    {
      "cell_type": "code",
      "source": [
        "!pip install --upgrade git+https://github.com/vista-simulator/vista-6s191.git"
      ],
      "metadata": {
        "id": "WKWcagMpRLIB",
        "outputId": "20812dd4-a408-4fef-cd37-3d66c2adb7f9",
        "colab": {
          "base_uri": "https://localhost:8080/"
        }
      },
      "execution_count": 30,
      "outputs": [
        {
          "output_type": "stream",
          "name": "stdout",
          "text": [
            "Looking in indexes: https://pypi.org/simple, https://us-python.pkg.dev/colab-wheels/public/simple/\n",
            "Collecting git+https://github.com/vista-simulator/vista-6s191.git\n",
            "  Cloning https://github.com/vista-simulator/vista-6s191.git to /tmp/pip-req-build-p49pr_fw\n",
            "  Running command git clone -q https://github.com/vista-simulator/vista-6s191.git /tmp/pip-req-build-p49pr_fw\n",
            "Building wheels for collected packages: vista\n",
            "  Building wheel for vista (setup.py) ... \u001b[?25l\u001b[?25hdone\n",
            "  Created wheel for vista: filename=vista-0.1.0-py3-none-any.whl size=71732 sha256=0c77d4337536ba208f282ce953ed115510e007a14b1f419350c9745e55fa14fc\n",
            "  Stored in directory: /tmp/pip-ephem-wheel-cache-0ld30saz/wheels/ff/19/49/f129fb1af9a79d6833e2ba58a5e217487643c11d6f041d7419\n",
            "Successfully built vista\n",
            "Installing collected packages: vista\n",
            "Successfully installed vista-0.1.0\n"
          ]
        }
      ]
    },
    {
      "cell_type": "code",
      "source": [
        "import vista\n",
        "from vista.utils import logging\n",
        "logging.setLevel(logging.ERROR)"
      ],
      "metadata": {
        "id": "ByV6c5GKTgHq"
      },
      "execution_count": null,
      "outputs": []
    },
    {
      "cell_type": "markdown",
      "metadata": {
        "id": "70Vpby5VJ9Bp"
      },
      "source": [
        "VISTA provides some documentation which will be very helpful to completing this lab. You can always use the `?vista` command to access the package documentation."
      ]
    },
    {
      "cell_type": "code",
      "source": [
        "### Access documentation for VISTA\n",
        "### Run ?vista.<[name of module or function]>\n",
        "?vista.Display "
      ],
      "metadata": {
        "id": "-RTw0OK4nTYi"
      },
      "execution_count": null,
      "outputs": []
    },
    {
      "cell_type": "markdown",
      "source": [
        "## 3.6 Create an environment in VISTA\n",
        "\n",
        "Environments in VISTA are based on and built from human-collected driving *traces*. A trace is the data from a single driving run. In this case we'll be working with RGB camera data, from the viewpoint of the driver looking out at the road: the camera collects this data as the car drives around!\n",
        "\n",
        "We will start by accessing a trace. We use that trace to instantiate an environment within VISTA. This is our `World` and defines the environment we will use for reinforcement learning. The trace itself helps to define a space for the environment; with VISTA, we can use the trace to generate new photorealistic viewpoints anywhere within that space. This provides valuable new training data as well as a robust testing environment.\n",
        "\n",
        "The simulated environment of VISTA will serve as our training ground and testbed for reinforcement learning. We also define an `Agent` -- a car -- that will actually move around in the environmnet, and make and carry out *actions* in this world. Because this is an entirely simulated environment, our car agent will also be simulated!\n",
        "\n"
      ],
      "metadata": {
        "id": "XauFMMZjnYxn"
      }
    },
    {
      "cell_type": "code",
      "execution_count": null,
      "metadata": {
        "scrolled": true,
        "id": "JrTpTBJsJ9Bp"
      },
      "outputs": [],
      "source": [
        "# Download and extract the data for vista (auto-skip if already downloaded)\n",
        "!wget -nc -q --show-progress https://www.dropbox.com/s/62pao4mipyzk3xu/vista_traces.zip\n",
        "print(\"Unzipping data...\")\n",
        "!unzip -o -q vista_traces.zip\n",
        "print(\"Done downloading and unzipping data!\")\n",
        "\n",
        "trace_root = \"./vista_traces\"\n",
        "trace_path = [\n",
        "    \"20210726-154641_lexus_devens_center\", \n",
        "    \"20210726-155941_lexus_devens_center_reverse\", \n",
        "    \"20210726-184624_lexus_devens_center\", \n",
        "    \"20210726-184956_lexus_devens_center_reverse\", \n",
        "]\n",
        "trace_path = [os.path.join(trace_root, p) for p in trace_path]\n",
        "\n",
        "# Create a virtual world with VISTA, the world is defined by a series of data traces\n",
        "world = vista.World(trace_path, trace_config={'road_width': 4})\n",
        "\n",
        "# Create a car in our virtual world. The car will be able to step and take different \n",
        "#   control actions. As the car moves, its sensors will simulate any changes it environment\n",
        "car = world.spawn_agent(\n",
        "    config={\n",
        "        'length': 5.,\n",
        "        'width': 2.,\n",
        "        'wheel_base': 2.78,\n",
        "        'steering_ratio': 14.7,\n",
        "        'lookahead_road': True\n",
        "    })\n",
        "\n",
        "# Create a camera on the car for synthesizing the sensor data that we can use to train with! \n",
        "camera = car.spawn_camera(config={'size': (200, 320)})\n",
        "\n",
        "# Define a rendering display so we can visualize the simulated car camera stream and also \n",
        "#   get see its physical location with respect to the road in its environment. \n",
        "display = vista.Display(world, display_config={\"gui_scale\": 2, \"vis_full_frame\": False})\n",
        "\n",
        "# Define a simple helper function that allows us to reset VISTA and the rendering display\n",
        "def vista_reset():\n",
        "    world.reset()\n",
        "    display.reset()\n",
        "vista_reset()"
      ]
    },
    {
      "cell_type": "markdown",
      "source": [
        "If successful, you should see a blank black screen at this point. Your rendering display has  been initialized."
      ],
      "metadata": {
        "id": "aa3sA9FKndIx"
      }
    },
    {
      "cell_type": "markdown",
      "source": [
        "## 3.7 Our virtual agent: the car\n",
        "\n",
        "Our goal is to learn a control policy for our agent, our (hopefully) autonomous vehicle, end-to-end directly from RGB camera sensory input. As in Cartpole, we need to define how our virtual agent will interact with its environment.\n",
        "\n",
        "### Define agent's action functions\n",
        "In the case of driving, the car agent can act -- taking a step in the VISTA environment -- according to a given control command. This amounts to moving with a desired speed and a desired *curvature*, which reflects the car's turn radius. Curvature has units $\\frac{1}{meter}$. So, if a car is traversing a circle of radius $r$ meters, then it is turning with a curvature $\\frac{1}{r}$. The curvature is therefore correlated with the car's steering wheel angle, which actually controls its turn radius. Let's define the car agent's step function to capture the action of moving with a desired speed and desired curvature."
      ],
      "metadata": {
        "id": "rNzwTTwzngQH"
      }
    },
    {
      "cell_type": "code",
      "execution_count": null,
      "metadata": {
        "id": "ZjFecj3WJ9Bp"
      },
      "outputs": [],
      "source": [
        "# First we define a step function, to allow our virtual agent to step \n",
        "# with a given control command through the environment \n",
        "# agent can act with a desired curvature (turning radius, like steering angle)\n",
        "# and desired speed. if either is not provided then this step function will \n",
        "# use whatever the human executed at that time in the real data.\n",
        "\n",
        "def vista_step(curvature=None, speed=None):\n",
        "    # Arguments:\n",
        "    #   curvature: curvature to step with\n",
        "    #   speed: speed to step with\n",
        "    if curvature is None: \n",
        "        curvature = car.trace.f_curvature(car.timestamp)\n",
        "    if speed is None: \n",
        "        speed = car.trace.f_speed(car.timestamp)\n",
        "    \n",
        "    car.step_dynamics(action=np.array([curvature, speed]), dt=1/15.)\n",
        "    car.step_sensors()"
      ]
    },
    {
      "cell_type": "markdown",
      "metadata": {
        "id": "aRmV3GtkJ9Bp"
      },
      "source": [
        "### Inspect driving trajectories in VISTA\n",
        "\n",
        "Recall that our VISTA environment is based off an initial human-collected driving trace. Also, we defined the agent's step function to defer to what the human executed if it is not provided with a desired speed and curvature with which to move.\n",
        "\n",
        "Thus, we can further inspect our environment by using the step function for the driving agent to move through the environment by following the human path. The stepping and iteration will take about 1 iteration per second. We will then observe the data that comes out to see the agent's traversal of the environment."
      ]
    },
    {
      "cell_type": "code",
      "execution_count": null,
      "metadata": {
        "id": "rp8G7eirJ9Bp"
      },
      "outputs": [],
      "source": [
        "import shutil, os, subprocess, cv2\n",
        "\n",
        "# Create a simple helper class that will assist us in storing videos of the render\n",
        "class VideoStream():\n",
        "    def __init__(self):\n",
        "        self.tmp = \"./tmp\"\n",
        "        if os.path.exists(self.tmp) and os.path.isdir(self.tmp):\n",
        "            shutil.rmtree(self.tmp)\n",
        "        os.mkdir(self.tmp)\n",
        "    def write(self, image, index):\n",
        "        cv2.imwrite(os.path.join(self.tmp, f\"{index:04}.png\"), image)\n",
        "    def save(self, fname):\n",
        "        cmd = f\"/usr/bin/ffmpeg -f image2 -i {self.tmp}/%04d.png -crf 0 -y {fname}\"\n",
        "        subprocess.call(cmd, shell=True)\n",
        "        "
      ]
    },
    {
      "cell_type": "code",
      "execution_count": null,
      "metadata": {
        "scrolled": true,
        "id": "MlC5t0dyJ9Bq"
      },
      "outputs": [],
      "source": [
        "## Render and inspect a human trace ##\n",
        "\n",
        "vista_reset()\n",
        "stream = VideoStream()\n",
        "\n",
        "for i in tqdm(range(100)):\n",
        "    vista_step()\n",
        "    \n",
        "    # Render and save the display\n",
        "    vis_img = display.render()\n",
        "    stream.write(vis_img[:, :, ::-1], index=i)\n",
        "    if car.done: \n",
        "        break\n",
        "\n",
        "print(\"Saving trajectory of human following...\")\n",
        "stream.save(\"human_follow.mp4\")      \n",
        "mdl.lab3.play_video(\"human_follow.mp4\")"
      ]
    },
    {
      "cell_type": "markdown",
      "source": [
        "Check out the simulated VISTA environment. What do you notice about the environment, the agent, and the setup of the simulation engine? How could these aspects useful for training models?"
      ],
      "metadata": {
        "id": "SCeRDuqV-bye"
      }
    },
    {
      "cell_type": "markdown",
      "metadata": {
        "id": "CvJCRINbJ9Bq"
      },
      "source": [
        "### Define terminal states: crashing! (oh no)\n",
        "\n",
        "Recall from Cartpole, our training episodes ended when the pole toppled, i.e., the agent crashed and failed. Similarly for training vehicle control policies in VISTA, we have to define what a ***crash*** means. We will define a crash as any time the car moves out of its lane or exceeds its maximum rotation. This will define the end of a training episode."
      ]
    },
    {
      "cell_type": "code",
      "execution_count": null,
      "metadata": {
        "id": "2_6U_VAFJ9Bq"
      },
      "outputs": [],
      "source": [
        "## Define terminal states and crashing conditions ##\n",
        "\n",
        "def check_out_of_lane(car):\n",
        "    distance_from_center = np.abs(car.relative_state.x)\n",
        "    road_width = car.trace.road_width \n",
        "    half_road_width = road_width / 2\n",
        "    return distance_from_center > half_road_width\n",
        "\n",
        "def check_exceed_max_rot(car):\n",
        "    maximal_rotation = np.pi / 10.\n",
        "    current_rotation = np.abs(car.relative_state.yaw)\n",
        "    return current_rotation > maximal_rotation\n",
        "\n",
        "def check_crash(car): \n",
        "    return check_out_of_lane(car) or check_exceed_max_rot(car) or car.done"
      ]
    },
    {
      "cell_type": "markdown",
      "metadata": {
        "id": "YFXUZ8ppJ9Bq"
      },
      "source": [
        "### Quick check: acting with a random control policy\n",
        "\n",
        "At this point, we have (1) an environment; (2) an agent, with a step function. Before we start learning a control policy for our vehicle agent, we start by testing out the behavior of the agent in the virtual world by providing it with a completely random control policy. Naturally we expect that the behavior will not be very robust! Let's take a look."
      ]
    },
    {
      "cell_type": "code",
      "execution_count": null,
      "metadata": {
        "id": "ZIyI5MqwJ9Bq"
      },
      "outputs": [],
      "source": [
        "## Behavior with random control policy ##\n",
        "\n",
        "i = 0\n",
        "num_crashes = 5\n",
        "stream = VideoStream()\n",
        "\n",
        "for _ in range(num_crashes):\n",
        "    vista_reset()\n",
        "    \n",
        "    while not check_crash(car):\n",
        "\n",
        "        # Sample a random curvature (between +/- 1/3), keep speed constant\n",
        "        curvature = np.random.uniform(-1/3, 1/3)\n",
        "\n",
        "        # Step the simulated car with the same action\n",
        "        vista_step(curvature=curvature)\n",
        "\n",
        "        # Render and save the display\n",
        "        vis_img = display.render()\n",
        "        stream.write(vis_img[:, :, ::-1], index=i)\n",
        "        i += 1\n",
        "    \n",
        "    print(f\"Car crashed on step {i}\")\n",
        "    for _ in range(5):\n",
        "        stream.write(vis_img[:, :, ::-1], index=i)\n",
        "        i += 1\n",
        "\n",
        "print(\"Saving trajectory with random policy...\")\n",
        "stream.save(\"random_policy.mp4\")\n",
        "mdl.lab3.play_video(\"random_policy.mp4\")"
      ]
    },
    {
      "cell_type": "markdown",
      "metadata": {
        "id": "OL02qW5vJ9Br"
      },
      "source": [
        "## 3.8 Preparing to learn a control policy: data preprocessing\n",
        "\n",
        "So, hopefully you saw that the random control policy was, indeed, not very robust. Yikes. Our overall goal in this lab is to build a self-driving agent using a neural network controller trained entirely in the simulator VISTA. This means that the data used to train and test the self-driving agent will be supplied by VISTA. As a step towards this, we will do some data preprocessing to make it easier for the network to learn from these visual data.\n",
        "\n",
        "Previously we rendered the data with a display as a quick check that the environment was working properly. For training the agent, we will directly access the car's observations, extract Regions Of Interest (ROI) from those observations, crop them out, and use these crops as training data for our self-driving agent controller. Observe both the full observation and the extracted ROI."
      ]
    },
    {
      "cell_type": "code",
      "execution_count": null,
      "metadata": {
        "id": "4UxX6mk5J9Br"
      },
      "outputs": [],
      "source": [
        "from google.colab.patches import cv2_imshow\n",
        "\n",
        "# Directly access the raw sensor observations of the simulated car\n",
        "vista_reset()\n",
        "full_obs = car.observations[camera.name]\n",
        "cv2_imshow(full_obs)"
      ]
    },
    {
      "cell_type": "code",
      "source": [
        "## ROIs ##\n",
        "\n",
        "# Crop a smaller region of interest (ROI). This is necessary because: \n",
        "#   1. The full observation will have distortions on the edge as the car deviates from the human\n",
        "#   2. A smaller image of the environment will be easier for our model to learn from\n",
        "region_of_interest = camera.camera_param.get_roi()\n",
        "i1, j1, i2, j2 = region_of_interest\n",
        "cropped_obs = full_obs[i1:i2, j1:j2]\n",
        "cv2_imshow(cropped_obs)"
      ],
      "metadata": {
        "id": "KAH-5uxrbkng"
      },
      "execution_count": null,
      "outputs": []
    },
    {
      "cell_type": "markdown",
      "metadata": {
        "id": "znxypklaJ9Br"
      },
      "source": [
        "We will group these steps into some helper functions that we can use during training: \n",
        "1. `preprocess`: takes a full observation as input and returns a preprocessed version. This can include whatever preprocessing steps you would like! For example, ROI extraction, cropping, augmentations, and so on. You are welcome to add and modify this function as you seek to optimize your self-driving agent!\n",
        "2. `grab_and_preprocess`: grab the car's current observation (i.e., image view from its perspective), and then call the `preprocess` function on that observation."
      ]
    },
    {
      "cell_type": "code",
      "execution_count": null,
      "metadata": {
        "id": "7GQY_UwSJ9Br"
      },
      "outputs": [],
      "source": [
        "## Data preprocessing functions ##\n",
        "\n",
        "def preprocess(full_obs):\n",
        "    # Extract ROI\n",
        "    i1, j1, i2, j2 = camera.camera_param.get_roi()\n",
        "    obs = full_obs[i1:i2, j1:j2]\n",
        "    \n",
        "    # Rescale to [0, 1]\n",
        "    obs = obs / 255.\n",
        "    return obs\n",
        "\n",
        "def grab_and_preprocess_obs(car):\n",
        "    full_obs = car.observations[camera.name]\n",
        "    obs = preprocess(full_obs)\n",
        "    return obs"
      ]
    },
    {
      "cell_type": "markdown",
      "metadata": {
        "id": "WAueY4PfJ9Br"
      },
      "source": [
        "## 3.9 Define the self-driving agent and learning algorithm\n",
        "\n",
        "As before, we'll use a neural network to define our agent and output actions that it will take. Fixing the agent's driving speed, we will train this network to predict a curvature -- a continuous value -- that will relate to the car's turn radius. Specifically, define the model to output a prediction of a continuous distribution of curvature, defined by a mean $\\mu$ and standard deviation $\\sigma$. These parameters will define a Normal distribution over curvature.\n",
        "\n",
        "What network architecture do you think would be especially well suited to the task of end-to-end control learning from RGB images? Since our observations are in the form of RGB images, we'll start with a convolutional network. Note that you will be tasked with completing a template CNN architecture for the self-driving car agent -- but you should certainly experiment beyond this template to try to optimize performance!"
      ]
    },
    {
      "cell_type": "code",
      "execution_count": null,
      "metadata": {
        "id": "f-pAQA7zJ9Br"
      },
      "outputs": [],
      "source": [
        "### Define the self-driving agent ###\n",
        "# Note: we start with a template CNN architecture -- experiment away as you \n",
        "#   try to optimize your agent!\n",
        "\n",
        "# Functionally define layers for convenience\n",
        "# All convolutional layers will have ReLu activation\n",
        "act = tf.keras.activations.swish\n",
        "Conv2D = functools.partial(tf.keras.layers.Conv2D, padding='valid', activation=act)\n",
        "Flatten = tf.keras.layers.Flatten\n",
        "Dense = tf.keras.layers.Dense\n",
        "\n",
        "# Defines a CNN for the self-driving agent\n",
        "def create_driving_model():\n",
        "    model = tf.keras.models.Sequential([\n",
        "        # Convolutional layers\n",
        "        # First, 32 5x5 filters and 2x2 stride\n",
        "        Conv2D(filters=32, kernel_size=5, strides=2),\n",
        "\n",
        "        # TODO: define convolutional layers with 48 5x5 filters and 2x2 stride\n",
        "        # Conv2D('''TODO'''),\n",
        "\n",
        "        # TODO: define two convolutional layers with 64 3x3 filters and 2x2 stride\n",
        "        # Conv2D('''TODO'''),\n",
        "\n",
        "        Flatten(),\n",
        "\n",
        "        # Fully connected layer and output\n",
        "        Dense(units=128, activation=act),\n",
        "        \n",
        "        # TODO: define the output dimension of the last Dense layer. \n",
        "        #    Pay attention to the space the agent needs to act in.\n",
        "        #    Remember that this model is outputing a distribution of *continuous* \n",
        "        #    actions, which take a different shape than discrete actions.\n",
        "        #    How many outputs should there be to define a distribution?'''\n",
        "\n",
        "        # Dense('''TODO''')\n",
        "\n",
        "    ])\n",
        "    return model\n",
        "\n",
        "driving_model = create_driving_model()"
      ]
    },
    {
      "cell_type": "markdown",
      "metadata": {
        "id": "hlyL0HL1J9Bs"
      },
      "source": [
        "Now we will define the learing algorithm which will be used to reinforce good behaviors of the agent and discourage bad behaviours. As with Cartpole, we will use a *policy gradient* method that aims to **maximize** the likelihood of actions that result in large rewards. However, there are some key differences. In Cartpole, the agent's action space was discrete: it could only move left or right. In driving, the agent's action space is continuous: the control network is outputting a curvature, which is a continuous variable. We will define a probability distribution, defined by a mean and variance, over this continuous action space to define the possible actions the self-driving agent can take.\n",
        "\n",
        "You will define three functions that reflect these changes and form the core of the the learning algorithm:\n",
        "1. `run_driving_model`: takes an input image, and outputs a prediction of a continuous distribution of curvature. This will take the form of a Normal distribuion and will be defined using TensorFlow probability's [`tfp.distributions.Normal`](https://www.tensorflow.org/probability/api_docs/python/tfp/distributions/Normal) function, so the model's prediction will include both a mean and variance. Operates on an instance `driving_model` defined above.\n",
        "2. `compute_driving_loss`: computes the loss for a prediction that is in the form of a continuous Normal distribution. Recall as in Cartpole, computing the loss involves multiplying the predicted log probabilities by the discounted rewards. Similar to `compute_loss` in Cartpole.\n",
        "\n",
        "The `train_step` function to use the loss function to execute a training step will be the same as we used in Cartpole! This will have to be executed abov in order for the driving agent to train properly."
      ]
    },
    {
      "cell_type": "code",
      "execution_count": null,
      "metadata": {
        "id": "-UWhFhToJ9Bs"
      },
      "outputs": [],
      "source": [
        "## The self-driving learning algorithm ##\n",
        "\n",
        "# hyperparameters\n",
        "max_curvature = 1/8. \n",
        "max_std = 0.1 \n",
        "\n",
        "def run_driving_model(image):\n",
        "    # Arguments:\n",
        "    #   image: an input image\n",
        "    # Returns:\n",
        "    #   pred_dist: predicted distribution of control actions \n",
        "    single_image_input = tf.rank(image) == 3  # missing 4th batch dimension\n",
        "    if single_image_input:\n",
        "        image = tf.expand_dims(image, axis=0)\n",
        "\n",
        "    '''TODO: get the prediction of the model given the current observation.'''    \n",
        "    # distribution = ''' TODO '''\n",
        "\n",
        "    mu, logsigma = tf.split(distribution, 2, axis=1)\n",
        "    mu = max_curvature * tf.tanh(mu) # conversion\n",
        "    sigma = max_std * tf.sigmoid(logsigma) + 0.005 # conversion\n",
        "    \n",
        "    '''TODO: define the predicted distribution of curvature, given the predicted\n",
        "    mean mu and standard deviation sigma. Use a Normal distribution as defined\n",
        "    in TF probability (hint: tfp.distributions)'''\n",
        "    # pred_dist = ''' TODO '''\n",
        "  \n",
        "    return pred_dist\n",
        "\n",
        "\n",
        "def compute_driving_loss(dist, actions, rewards):\n",
        "    # Arguments:\n",
        "    #   logits: network's predictions for actions to take\n",
        "    #   actions: the actions the agent took in an episode\n",
        "    #   rewards: the rewards the agent received in an episode\n",
        "    # Returns:\n",
        "    #   loss\n",
        "    '''TODO: complete the function call to compute the negative log probabilities\n",
        "    of the agent's actions.'''\n",
        "    # neg_logprob = '''TODO'''\n",
        "\n",
        "    '''TODO: scale the negative log probability by the rewards.'''\n",
        "    # loss = tf.reduce_mean('''TODO''')\n",
        "    return loss\n"
      ]
    },
    {
      "cell_type": "markdown",
      "metadata": {
        "id": "fCCMKLaIJ9Bs"
      },
      "source": [
        "## 3.10 Train the self-driving agent\n",
        "\n",
        "We're now all set up to start training our RL algorithm and agent for autonomous driving!\n",
        "\n",
        "We begin be initializing an opitimizer, environment, a new driving agent, and `Memory` buffer. This will be in the first code block. To restart training completely, you will need to re-run this cell to re-initiailize everything.\n",
        "\n",
        "The second code block is the main training script. Here reinforcement learning episodes will be executed by agents in the VISTA environment. Since the self-driving agent starts out with literally zero knowledge of its environment, it can often take a long time to train and achieve stable behavior -- keep this in mind! For convenience, stopping and restarting the second cell will pick up training where you left off.\n",
        "\n",
        "The training block will execute a policy in the environment until the agent crashes. When the agent crashes, the (state, action, reward) triplet `(s,a,r)` of the agent at the end of the episode will be saved into the `Memory` buffer, and then provided as input to the policy gradient loss function. This information will be used to execute optimization within the training step. Memory will be cleared, and we will then do it all over again!\n",
        "\n",
        "Let's run the code block to train our self-driving agent. We will again visualize the evolution of the total reward as a function of training to get a sense of how the agent is learning. **You should reach a reward of at least 100 to get bare minimum stable behavior.**"
      ]
    },
    {
      "cell_type": "code",
      "source": [
        "## Training parameters and initialization ##\n",
        "## Re-run this cell to restart training from scratch ##\n",
        "\n",
        "''' TODO: Learning rate and optimizer '''\n",
        "# learning_rate = '''TODO'''\n",
        "# optimizer = '''TODO'''\n",
        "\n",
        "# instantiate driving agent\n",
        "vista_reset()\n",
        "driving_model = create_driving_model()\n",
        "# NOTE: the variable driving_model will be used in run_driving_model execution\n",
        "\n",
        "# to track our progress\n",
        "smoothed_reward = mdl.util.LossHistory(smoothing_factor=0.9)\n",
        "plotter = mdl.util.PeriodicPlotter(sec=2, xlabel='Iterations', ylabel='Rewards')\n",
        "\n",
        "# instantiate Memory buffer\n",
        "memory = Memory()"
      ],
      "metadata": {
        "id": "uZGn94sJCtBb"
      },
      "execution_count": null,
      "outputs": []
    },
    {
      "cell_type": "code",
      "execution_count": null,
      "metadata": {
        "scrolled": true,
        "id": "G8GhVvZQJ9Bs"
      },
      "outputs": [],
      "source": [
        "## Driving training! Main training block. ##\n",
        "## Note: stopping and restarting this cell will pick up training where you\n",
        "#        left off. To restart training you need to rerun the cell above as \n",
        "#        well (to re-initialize the model and optimizer)\n",
        "\n",
        "max_batch_size = 300\n",
        "max_reward = float('-inf') # keep track of the maximum reward acheived during training\n",
        "if hasattr(tqdm, '_instances'): tqdm._instances.clear() # clear if it exists\n",
        "for i_episode in range(500):\n",
        "\n",
        "    plotter.plot(smoothed_reward.get())\n",
        "    # Restart the environment\n",
        "    vista_reset()\n",
        "    memory.clear()\n",
        "    observation = grab_and_preprocess_obs(car)\n",
        "\n",
        "    while True:\n",
        "        # TODO: using the car's current observation compute the desired \n",
        "        #  action (curvature) distribution by feeding it into our \n",
        "        #  driving model (use the function you already built to do this!) '''\n",
        "        # curvature_dist = '''TODO'''\n",
        "        \n",
        "        # TODO: sample from the action *distribution* to decide how to step\n",
        "        #   the car in the environment. You may want to check the documentation\n",
        "        #   for tfp.distributions.Normal online. Remember that the sampled action\n",
        "        #   should be a single scalar value after this step.\n",
        "        # curvature_action = '''TODO'''\n",
        "        \n",
        "        # Step the simulated car with the same action\n",
        "        vista_step(curvature_action)\n",
        "        observation = grab_and_preprocess_obs(car)\n",
        "               \n",
        "        # TODO: Compute the reward for this iteration. You define \n",
        "        #   the reward function for this policy, start with something \n",
        "        #   simple - for example, give a reward of 1 if the car did not \n",
        "        #   crash and a reward of 0 if it did crash.\n",
        "        #  reward = '''TODO'''\n",
        "        \n",
        "        # add to memory\n",
        "        memory.add_to_memory(observation, curvature_action, reward)\n",
        "        \n",
        "        # is the episode over? did you crash or do so well that you're done?\n",
        "        if reward == 0.0:\n",
        "            # determine total reward and keep a record of this\n",
        "            total_reward = sum(memory.rewards)\n",
        "            smoothed_reward.append(total_reward)\n",
        "            \n",
        "            # execute training step - remember we don't know anything about how the \n",
        "            #   agent is doing until it has crashed! if the training step is too large \n",
        "            #   we need to sample a mini-batch for this step.\n",
        "            batch_size = min(len(memory), max_batch_size)\n",
        "            i = np.random.choice(len(memory), batch_size, replace=False)\n",
        "            train_step(driving_model, compute_driving_loss, optimizer, \n",
        "                               observations=np.array(memory.observations)[i],\n",
        "                               actions=np.array(memory.actions)[i],\n",
        "                               discounted_rewards = discount_rewards(memory.rewards)[i], \n",
        "                               custom_fwd_fn=run_driving_model)            \n",
        "            # reset the memory\n",
        "            memory.clear()\n",
        "            break"
      ]
    },
    {
      "cell_type": "markdown",
      "metadata": {
        "id": "yevBnJCFJ9Bt"
      },
      "source": [
        "## 3.11 Evaluate the self-driving agent\n",
        "\n",
        "Finally we can put our trained self-driving agent to the test! It will execute autonomous control, in VISTA, based on the learned controller. We will evaluate how well it does based on this distance the car travels without crashing. We await the result..."
      ]
    },
    {
      "cell_type": "code",
      "execution_count": null,
      "metadata": {
        "scrolled": true,
        "id": "DzeswkSnJ9Bt"
      },
      "outputs": [],
      "source": [
        "## Evaluation block!##\n",
        "\n",
        "i_step = 0\n",
        "num_episodes = 5\n",
        "num_reset = 5\n",
        "stream = VideoStream()\n",
        "for i_episode in range(num_episodes):\n",
        "    \n",
        "    # Restart the environment\n",
        "    vista_reset()\n",
        "    observation = grab_and_preprocess_obs(car)\n",
        "    \n",
        "    print(\"rolling out in env\")\n",
        "    episode_step = 0\n",
        "    while not check_crash(car) and episode_step < 100:\n",
        "        # using our observation, choose an action and take it in the environment\n",
        "        curvature_dist = run_driving_model(observation)\n",
        "        curvature = curvature_dist.mean()[0,0]\n",
        "\n",
        "        # Step the simulated car with the same action\n",
        "        vista_step(curvature)\n",
        "        observation = grab_and_preprocess_obs(car)\n",
        "\n",
        "        vis_img = display.render()\n",
        "        stream.write(vis_img[:, :, ::-1], index=i_step)\n",
        "        i_step += 1\n",
        "        episode_step += 1\n",
        "        \n",
        "    for _ in range(num_reset):\n",
        "        stream.write(np.zeros_like(vis_img), index=i_step)\n",
        "        i_step += 1\n",
        "        \n",
        "print(f\"Average reward: {(i_step - (num_reset*num_episodes)) / num_episodes}\")\n",
        "\n",
        "print(\"Saving trajectory with trained policy...\")\n",
        "stream.save(\"trained_policy.mp4\")\n",
        "mdl.lab3.play_video(\"trained_policy.mp4\")"
      ]
    },
    {
      "cell_type": "markdown",
      "source": [
        "Congratulations for making it to this point and for training an autonomous vehicle control policy using deep neural networks and reinforcement learning! Now, with an eye towards the lab competition, think about what you can change -- about the controller model, your data, your learning algorithm... -- to improve performance even further. Below in 3.11 we have some suggestions to get you started. We hope to see your self-driving control policy put to the ***real*** test!"
      ],
      "metadata": {
        "id": "Dq6TZoYvoPyy"
      }
    },
    {
      "cell_type": "markdown",
      "source": [
        "## 3.11 Conclusion and submission information\n",
        "\n",
        "That's it! Congratulations on training two RL agents and putting them to the test! We encourage you to consider the following:\n",
        "\n",
        "* How does each agent perform?\n",
        "* How does the complexity of the self-driving car agent compare to CartPole, and how does it alter the rate at which the agent learns and its performance? \n",
        "* What are some things you could change about the agent or the learning process to potentially improve performance?\n",
        "\n",
        "Try to optimize your **self-driving car** model and algorithm to achieve improved performance.  **MIT students and affiliates will be eligible for prizes during the IAP offering. The prize for this lab includes an opportunity to test your model and algorithm onboard a full-scale autonomous vehicle in the real world.**\n",
        "\n",
        "To get you started, here are some suggested ways to improve your self-driving car model and/or RL algorithm:\n",
        "\n",
        "* different model architectures, for example recurrent models or Transformers with self-attention;\n",
        "* data augmentation and improved pre-processing;\n",
        "* different data modalities from different sensor types. VISTA also supports [LiDAR](https://driving.ca/car-culture/auto-tech/what-is-lidar-and-how-is-it-used-in-cars) and [event-based camera](https://arxiv.org/pdf/1804.01310.pdf) data, with a [new VISTA paper](https://arxiv.org/pdf/2111.12083.pdf) describing this. If you are interested in this, please contact Alexander Amini (amini@mit.edu)!\n",
        "* improved reinforcement learning algorithms, such as [PPO](https://paperswithcode.com/paper/proximal-policy-optimization-algorithms), [TRPO](https://paperswithcode.com/method/trpo), or [A3C](https://paperswithcode.com/method/a3c);\n",
        "* different reward functions for reinforcemnt learning, for example penalizing the car's distance to the lane center rather than just whether or not it crashed;\n",
        "* [Guided Policy Learning (GPL)](https://rll.berkeley.edu/gps/). Not reinforcement learning, but a powerful algorithm to leverage human data to provide additional supervision the learning task.\n",
        "\n",
        "To enter the competition, MIT students and affiliates should upload the following to the course Canvas:\n",
        "\n",
        "* Jupyter notebook with the code you used to generate your results, **with the self-driving car agent training fully executed**;\n",
        "* **saved video of your self-driving agent executing a trajectory in VISTA**;\n",
        "* printout / recording of the **maximum distance traveled by your agent** before crashing;\n",
        "* **text description and/or visual diagram** of the architecture, settings, algorithm, hyperparameters, etc you used to generate your result -- if there are any additional or interesting modifications you made to the template code, please include these in your description;\n",
        "* finally, **separate `.py` script** containing the code for your model, as well as **a function call to load your model and the final trained weights**. This will mean you will have to access and load the weights of your trained model in this script;\n",
        "\n",
        "We will evaluate your entries based on the above components, as well as potential real-time evaluation of top candidates in new VISTA environments with snow / winter traces. The link for these traces is [here](https://www.dropbox.com/s/3wxyvjfquloonqc/vista_traces_snow.zip). You are welcome to download this data and evaluate your models on it as well.\n",
        "\n",
        "Good luck!\n",
        "\n",
        "<p align=\"center\">\n",
        "<img src=\"https://media.giphy.com/media/H7rpSYHRyYgamxQNqw/giphy-downsized-large.gif\" width=\"700\"/>\n",
        "</p>"
      ],
      "metadata": {
        "id": "6c6uO21GoRfw"
      }
    },
    {
      "cell_type": "code",
      "source": [
        ""
      ],
      "metadata": {
        "id": "ac8FNK-x8gNn"
      },
      "execution_count": null,
      "outputs": []
    }
  ],
  "metadata": {
    "accelerator": "GPU",
    "colab": {
      "collapsed_sections": [
        "WoXYKhfZMHiw",
        "UT7YL8KBJIIc",
        "Eu6Mqxc720ST"
      ],
      "name": "RL.ipynb",
      "provenance": [],
      "include_colab_link": true
    },
    "kernelspec": {
      "display_name": "Python 3",
      "language": "python",
      "name": "python3"
    },
    "language_info": {
      "codemirror_mode": {
        "name": "ipython",
        "version": 3
      },
      "file_extension": ".py",
      "mimetype": "text/x-python",
      "name": "python",
      "nbconvert_exporter": "python",
      "pygments_lexer": "ipython3",
      "version": "3.9.7"
    }
  },
  "nbformat": 4,
  "nbformat_minor": 0
}